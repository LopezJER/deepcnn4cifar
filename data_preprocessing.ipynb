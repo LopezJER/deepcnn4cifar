{
 "cells": [
  {
   "cell_type": "markdown",
   "metadata": {},
   "source": [
    "cifar-10 images sre 32X32 pixels \n",
    "vgg get 224X224 pixels.\n",
    "make sure to upsample"
   ]
  }
 ],
 "metadata": {
  "language_info": {
   "name": "python"
  }
 },
 "nbformat": 4,
 "nbformat_minor": 2
}
